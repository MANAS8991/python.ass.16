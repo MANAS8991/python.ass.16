{
 "cells": [
  {
   "cell_type": "markdown",
   "id": "b855fb8c",
   "metadata": {},
   "source": [
    "# 1. Create a list called years_list, starting with the year of your birth, and each year thereafter until the year of your fifth birthday. For example, if you were born in 1980. the list would be years_list =[1980, 1981, 1982, 1983, 1984, 1985]."
   ]
  },
  {
   "cell_type": "code",
   "execution_count": null,
   "id": "9ee327f6",
   "metadata": {},
   "outputs": [],
   "source": [
    "To create a list called years_list starting with the year of your birth and each year thereafter until the year of your fifth birthday, you can use the following code as an example:\n",
    "birth_year = 1990  # Replace with your birth year\n",
    "years_list = [birth_year + i for i in range(6)]\n",
    "\n",
    "In this example, I assumed the birth year as 1990. Replace birth_year with your actual birth year in the code.\n",
    "\n",
    "The range(6) generates a sequence of numbers from 0 to 5 (inclusive), which corresponds to the six years from your birth year until your fifth birthday.\n",
    "\n",
    "The list comprehension [birth_year + i for i in range(6)] creates a new list where each element is obtained by adding birth_year to each value in the range. This results in a list years_list that contains the years from your birth year until your fifth birthday.\n",
    "\n",
    "The years_list will contain the years in the desired sequence. For example, if your birth year is 1990, the years_list will be [1990, 1991, 1992, 1993, 1994, 1995]."
   ]
  },
  {
   "cell_type": "markdown",
   "id": "d49a846b",
   "metadata": {},
   "source": [
    "# 2. In which year in years_list was your third birthday? Remember, you were 0 years of age for your first year."
   ]
  },
  {
   "cell_type": "code",
   "execution_count": null,
   "id": "3aa48f5c",
   "metadata": {},
   "outputs": [],
   "source": [
    "In the years_list created based on the previous question, your third birthday would be when you turn 2 years old. This is because you were 0 years old in your first year, 1 year old in your second year, and 2 years old in your third year.\n",
    "\n",
    "To find the year in which your third birthday occurs, you can access the element at index 2 in the years_list using the following code:\n",
    "\n",
    "years_list = [1990, 1991, 1992, 1993, 1994, 1995]  # Example years_list, replace with your own\n",
    "\n",
    "third_birthday_year = years_list[2]\n",
    "print(third_birthday_year)\n",
    "\n",
    "Output: 1992\n",
    "    \n",
    "Therefore, in this example, your third birthday would have occurred in the year 1992.    "
   ]
  },
  {
   "cell_type": "markdown",
   "id": "72e0ec30",
   "metadata": {},
   "source": [
    "# 3.In the years list, which year were you the oldest?"
   ]
  },
  {
   "cell_type": "code",
   "execution_count": null,
   "id": "8afae2a4",
   "metadata": {},
   "outputs": [],
   "source": [
    "To determine the year in which you were the oldest in the years_list, you need to find the maximum value in the list. The maximum value corresponds to the year when you were the oldest.\n",
    "\n",
    "You can find the oldest year by using the max() function on the years_list. Here's an example:\n",
    "\n",
    "years_list = [1990, 1991, 1992, 1993, 1994, 1995]  # Example years_list, replace with your own\n",
    "\n",
    "oldest_year = max(years_list)\n",
    "print(oldest_year)\n",
    "\n",
    "Output:  1995\n",
    "\n",
    "Therefore, in this example, the year 1995 is when you were the oldest based on the provided years_list.    "
   ]
  },
  {
   "cell_type": "markdown",
   "id": "f7e642a2",
   "metadata": {},
   "source": [
    "# 4. Make a list called things with these three strings as elements: 'mozzarella', 'cinderella', 'salmonella'."
   ]
  },
  {
   "cell_type": "code",
   "execution_count": null,
   "id": "5944d7f0",
   "metadata": {},
   "outputs": [],
   "source": [
    "To create a list called things with the three strings as elements: \"mozzarella\", \"cinderella\", and \"salmonella\", you can use the following code:\n",
    "things = [\"mozzarella\", \"cinderella\", \"salmonella\"]\n",
    "\n",
    "The resulting things list will look like this:\n",
    "['mozzarella', 'cinderella', 'salmonella']\n",
    "\n",
    "Each string is enclosed in quotes and separated by commas within the square brackets, indicating that they are elements of the list."
   ]
  },
  {
   "cell_type": "markdown",
   "id": "9820a25f",
   "metadata": {},
   "source": [
    "# 5. Capitalize the element in things that refers to a person and then print the list. Did it change the element in the list?"
   ]
  },
  {
   "cell_type": "code",
   "execution_count": null,
   "id": "ee37e1f2",
   "metadata": {},
   "outputs": [],
   "source": [
    "To capitalize the element in the things list that refers to a person (\"cinderella\") and then print the updated list, you can use the capitalize() method. Here's an example:\n",
    "things = [\"mozzarella\", \"cinderella\", \"salmonella\"]\n",
    "\n",
    "things[1] = things[1].capitalize()\n",
    "print(things)\n",
    "\n",
    "In this code, things[1] accesses the second element of the list (index 1), which is \"cinderella\". The capitalize() method is called on this element to capitalize the first letter.\n",
    "\n",
    "The output will be:\n",
    "['mozzarella', 'Cinderella', 'salmonella']\n",
    "As you can see, the element \"cinderella\" has been changed to \"Cinderella\" in the list. The capitalize() method modified the string in place, capitalizing the first letter."
   ]
  },
  {
   "cell_type": "markdown",
   "id": "ce5bc6a2",
   "metadata": {},
   "source": [
    "# 6. Make a surprise list with the elements \"Groucho\" ,\"Chico\" and \"Harpo\"."
   ]
  },
  {
   "cell_type": "code",
   "execution_count": null,
   "id": "e8b894e2",
   "metadata": {},
   "outputs": [],
   "source": [
    "To create a list called surprise with the elements \"Groucho\", \"Chico\", and \"Harpo\", you can use the following code:\n",
    "surprise = [\"Groucho\", \"Chico\", \"Harpo\"]\n",
    "In this code, a list named surprise is created with the three strings as elements.\n",
    "\n",
    "The resulting surprise list will look like this:\n",
    "['Groucho', 'Chico', 'Harpo']\n",
    "Each string is enclosed in quotes and separated by commas within the square brackets, indicating that they are elements of the list."
   ]
  },
  {
   "cell_type": "markdown",
   "id": "f438a698",
   "metadata": {},
   "source": [
    "# 7. Lowercase the last element of the surprise list, reverse it, and then capitalize it."
   ]
  },
  {
   "cell_type": "code",
   "execution_count": null,
   "id": "dba9f3b8",
   "metadata": {},
   "outputs": [],
   "source": [
    "To lowercase the last element of the surprise list, reverse it, and then capitalize it, you can use the following code:\n",
    "surprise = [\"Groucho\", \"Chico\", \"Harpo\"]\n",
    "\n",
    "last_element = surprise[-1].lower()  # Lowercase the last element\n",
    "reversed_element = last_element[::-1]  # Reverse the element\n",
    "capitalized_element = reversed_element.capitalize()  # Capitalize the reversed element\n",
    "\n",
    "surprise[-1] = capitalized_element  # Update the last element in the list\n",
    "\n",
    "print(surprise)\n",
    " \n",
    "In this code, surprise[-1] accesses the last element of the list, which is \"Harpo\". The lower() method is called to convert it to lowercase. Then, the [::-1] slicing technique is used to reverse the string. Finally, the capitalize() method is called to capitalize the reversed element."
   ]
  },
  {
   "cell_type": "markdown",
   "id": "06a6cc62",
   "metadata": {},
   "source": [
    "# 8. Make an English-to-French dictionary called e2f and print it. Here are your starter words: dog is chien, cat is chat, and walrus is morse."
   ]
  },
  {
   "cell_type": "code",
   "execution_count": null,
   "id": "3691c5a0",
   "metadata": {},
   "outputs": [],
   "source": [
    "To create an English-to-French dictionary called e2f with the provided starter words and print it, you can use the following code:\n",
    "e2f = {\n",
    "    \"dog\": \"chien\",\n",
    "    \"cat\": \"chat\",\n",
    "    \"walrus\": \"morse\"\n",
    "}\n",
    "\n",
    "print(e2f)\n",
    "\n",
    "In this code, a dictionary named e2f is created with the English words as keys and their corresponding French translations as values.\n",
    "Output:\n",
    "{'dog': 'chien', 'cat': 'chat', 'walrus': 'morse'}\n"
   ]
  },
  {
   "cell_type": "markdown",
   "id": "077d3031",
   "metadata": {},
   "source": [
    "# 9. Write the French word for walrus in your three-word dictionary e2f."
   ]
  },
  {
   "cell_type": "code",
   "execution_count": null,
   "id": "7a7cc08d",
   "metadata": {},
   "outputs": [],
   "source": [
    "In the e2f dictionary provided, the French word for \"walrus\" is \"morse\". Here's how you can access it:\n",
    "e2f = {\n",
    "    \"dog\": \"chien\",\n",
    "    \"cat\": \"chat\",\n",
    "    \"walrus\": \"morse\"\n",
    "}\n",
    "\n",
    "french_word = e2f[\"walrus\"]\n",
    "print(french_word)\n",
    "\n",
    "Output:  morse\n",
    "Therefore, in the e2f dictionary, the French word for \"walrus\" is \"morse\".    "
   ]
  },
  {
   "cell_type": "markdown",
   "id": "1fda4ef6",
   "metadata": {},
   "source": [
    "# 10. Make a French-to-English dictionary called f2e from e2f. Use the items method."
   ]
  },
  {
   "cell_type": "code",
   "execution_count": null,
   "id": "e8ae3186",
   "metadata": {},
   "outputs": [],
   "source": [
    "To create a French-to-English dictionary called f2e from the existing e2f dictionary using the items() method, you can use the following code:\n",
    "e2f = {\n",
    "    \"dog\": \"chien\",\n",
    "    \"cat\": \"chat\",\n",
    "    \"walrus\": \"morse\"\n",
    "}\n",
    "\n",
    "f2e = {french: english for english, french in e2f.items()}\n",
    "\n",
    "print(f2e)\n",
    "\n",
    "In this code, a new dictionary f2e is created using a dictionary comprehension. The items() method is used on the e2f dictionary to iterate over its key-value pairs. For each key-value pair, the French word is taken as the key and the English word is taken as the value in the f2e dictionary.\n",
    "Output:\n",
    "{'chien': 'dog', 'chat': 'cat', 'morse': 'walrus'}\n",
    "    "
   ]
  },
  {
   "cell_type": "markdown",
   "id": "52fe0e9c",
   "metadata": {},
   "source": [
    "# 11. Print the English version of the French word chien using f2e."
   ]
  },
  {
   "cell_type": "code",
   "execution_count": null,
   "id": "5c4c90c1",
   "metadata": {},
   "outputs": [],
   "source": [
    "To print the English version of the French word \"chien\" using the f2e dictionary, you can access the value corresponding to the key \"chien\". Here's how you can do it:\n",
    "f2e = {\n",
    "    \"chien\": \"dog\",\n",
    "    \"chat\": \"cat\",\n",
    "    \"morse\": \"walrus\"\n",
    "}\n",
    "\n",
    "english_word = f2e[\"chien\"]\n",
    "print(english_word)\n",
    "\n",
    "Output:  dog\n",
    "Therefore, in the f2e dictionary, the English version of the French word \"chien\" is \"dog\".    "
   ]
  },
  {
   "cell_type": "markdown",
   "id": "c5b7c9ea",
   "metadata": {},
   "source": [
    "# 12. Make and print a set of English words from the keys in e2f."
   ]
  },
  {
   "cell_type": "code",
   "execution_count": null,
   "id": "f78fcea9",
   "metadata": {},
   "outputs": [],
   "source": [
    "To create and print a set of English words from the keys in the e2f dictionary, you can use the set() function along with the keys() method. Here's an example:\n",
    "e2f = {\n",
    "    \"dog\": \"chien\",\n",
    "    \"cat\": \"chat\",\n",
    "    \"walrus\": \"morse\"\n",
    "}\n",
    "\n",
    "english_words = set(e2f.keys())\n",
    "print(english_words)\n",
    "\n",
    "The e2f.keys() method returns a view object containing the keys of the e2f dictionary. The set() function is used to convert this view object into a set, which contains unique elements.\n",
    "\n",
    "The output will be:  {'dog', 'cat', 'walrus'}\n",
    "As you can see, the set english_words contains the English words present as keys in the e2f dictionary."
   ]
  },
  {
   "cell_type": "markdown",
   "id": "dd62bb1c",
   "metadata": {},
   "source": [
    "# 13. Make a multilevel dictionary called life. Use these strings for the topmost keys: 'animals', 'plants', and 'other'. Make the 'animals' key refer to another dictionary with the keys 'cats', 'octopi', and 'emus'. Make the 'cats' key refer to a list of strings with the values 'Henri', 'Grumpy', and 'Lucy'. Make all the other keys refer to empty dictionaries."
   ]
  },
  {
   "cell_type": "code",
   "execution_count": null,
   "id": "9ef2c19e",
   "metadata": {},
   "outputs": [],
   "source": [
    "To create the multilevel dictionary life with the specified structure, you can use the following code:\n",
    "life = {\n",
    "    'animals': {\n",
    "        'cats': ['Henri', 'Grumpy', 'Lucy'],\n",
    "        'octopi': {},\n",
    "        'emus': {}\n",
    "    },\n",
    "    'plants': {},\n",
    "    'other': {}\n",
    "}\n",
    "\n",
    "print(life)\n",
    "  \n",
    "In this code, a dictionary named life is created with the top-level keys as 'animals', 'plants', and 'other'. The 'animals' key refers to another dictionary with the keys 'cats', 'octopi', and 'emus'. The 'cats' key refers to a list of strings with the values 'Henri', 'Grumpy', and 'Lucy'. The remaining keys 'octopi', 'emus', 'plants', and 'other' refer to empty dictionaries.\n",
    "\n",
    "The output will be:  {'animals': {'cats': ['Henri', 'Grumpy', 'Lucy'], 'octopi': {}, 'emus': {}}, 'plants': {}, 'other': {}}\n",
    "The life dictionary is printed, showing the nested structure with the specified keys and values."
   ]
  },
  {
   "cell_type": "markdown",
   "id": "1918e79c",
   "metadata": {},
   "source": [
    "# 14. Print the top-level keys of life."
   ]
  },
  {
   "cell_type": "code",
   "execution_count": null,
   "id": "834d816a",
   "metadata": {},
   "outputs": [],
   "source": [
    "To print the top-level keys of the life dictionary, you can use the keys() method. Here's an example:\n",
    "life = {\n",
    "    'animals': {\n",
    "        'cats': ['Henri', 'Grumpy', 'Lucy'],\n",
    "        'octopi': {},\n",
    "        'emus': {}\n",
    "    },\n",
    "    'plants': {},\n",
    "    'other': {}\n",
    "}\n",
    "\n",
    "top_level_keys = life.keys()\n",
    "print(top_level_keys)\n",
    "\n",
    "The keys() method returns a view object containing the keys of the life dictionary. By printing this view object, you can see the top-level keys.\n",
    "\n",
    "The output will be:  dict_keys(['animals', 'plants', 'other'])\n",
    "As you can see, the top-level keys of the life dictionary are 'animals', 'plants', and 'other'."
   ]
  },
  {
   "cell_type": "markdown",
   "id": "a22f5b5f",
   "metadata": {},
   "source": [
    "# 15. Print the keys for life[\"animals\"]."
   ]
  },
  {
   "cell_type": "code",
   "execution_count": null,
   "id": "58df1e41",
   "metadata": {},
   "outputs": [],
   "source": [
    "To print the keys for the 'animals' sub-dictionary within the life dictionary, you can access it using the key 'animals' and then use the keys() method. Here's the code:\n",
    "life = {\n",
    "    'animals': {\n",
    "        'cats': ['Henri', 'Grumpy', 'Lucy'],\n",
    "        'octopi': {},\n",
    "        'emus': {}\n",
    "    },\n",
    "    'plants': {},\n",
    "    'other': {}\n",
    "}\n",
    "\n",
    "animal_keys = life['animals'].keys()\n",
    "print(animal_keys)\n",
    "\n",
    "The life['animals'] expression accesses the value associated with the key 'animals', which is a dictionary. Then, the keys() method is used on this dictionary to get the keys within the 'animals' sub-dictionary.\n",
    "\n",
    "The output will be:   dict_keys(['cats', 'octopi', 'emus'])\n",
    "As you can see, the keys within the 'animals' sub-dictionary are 'cats', 'octopi', and 'emus'."
   ]
  },
  {
   "cell_type": "markdown",
   "id": "054ac893",
   "metadata": {},
   "source": [
    "# 16. Print the values for life['animals']['cats']"
   ]
  },
  {
   "cell_type": "code",
   "execution_count": null,
   "id": "0c09099f",
   "metadata": {},
   "outputs": [],
   "source": [
    "To print the values for life['animals']['cats'], you can directly access this nested list using the provided keys. Here's the code:\n",
    "life = {\n",
    "    'animals': {\n",
    "        'cats': ['Henri', 'Grumpy', 'Lucy'],\n",
    "        'octopi': {},\n",
    "        'emus': {}\n",
    "    },\n",
    "    'plants': {},\n",
    "    'other': {}\n",
    "}\n",
    "\n",
    "cat_values = life['animals']['cats']\n",
    "print(cat_values)\n",
    "\n",
    "The expression life['animals']['cats'] retrieves the value associated with the keys 'animals' and 'cats', which is a list containing the names of the cats.\n",
    "\n",
    "The output will be:   ['Henri', 'Grumpy', 'Lucy']\n",
    "As you can see, the values for life['animals']['cats'] are the names of the cats: 'Henri', 'Grumpy', and 'Lucy'."
   ]
  }
 ],
 "metadata": {
  "kernelspec": {
   "display_name": "Python 3 (ipykernel)",
   "language": "python",
   "name": "python3"
  },
  "language_info": {
   "codemirror_mode": {
    "name": "ipython",
    "version": 3
   },
   "file_extension": ".py",
   "mimetype": "text/x-python",
   "name": "python",
   "nbconvert_exporter": "python",
   "pygments_lexer": "ipython3",
   "version": "3.9.12"
  }
 },
 "nbformat": 4,
 "nbformat_minor": 5
}
